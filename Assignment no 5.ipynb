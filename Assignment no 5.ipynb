{
 "cells": [
  {
   "cell_type": "markdown",
   "id": "d5c8a921-fd15-4ceb-8654-60234b770d34",
   "metadata": {},
   "source": [
    "# Question 1."
   ]
  },
  {
   "cell_type": "code",
   "execution_count": 1,
   "id": "808b10d2-78fb-43d9-aaad-96f120068f5d",
   "metadata": {},
   "outputs": [
    {
     "name": "stdout",
     "output_type": "stream",
     "text": [
      "ID: 1, Name: Hassan, Department: Engineering\n",
      "ID: 2, Name: Moiz, Department: Marketing\n",
      "Found Employee: (1, 'Hassan', 'Engineering')\n",
      "ID: 1, Name: Hassan Iqbal, Department: Engineering\n",
      "ID: 2, Name: Moiz, Department: Marketing\n",
      "ID: 1, Name: Hassan Iqbal, Department: Engineering\n"
     ]
    }
   ],
   "source": [
    "# Initialize the list of employee records\n",
    "employee_records = []\n",
    "\n",
    "# Function to add an employee record\n",
    "def add_employee(employee_id, employee_name, department):\n",
    "    employee_records.append((employee_id, employee_name, department))\n",
    "\n",
    "# Function to view all employee records\n",
    "def view_employee():\n",
    "    for employee in employee_records:\n",
    "        print(f\"ID: {employee[0]}, Name: {employee[1]}, Department: {employee[2]}\")\n",
    "\n",
    "# Function to find an employee by ID\n",
    "def find_employee(employee_id):\n",
    "    for employee in employee_records:\n",
    "        if employee[0] == employee_id:\n",
    "            return employee\n",
    "    return None\n",
    "\n",
    "# Function to update an employee record\n",
    "def update_employee(employee_id, new_name=None, new_department=None):\n",
    "    for i, employee in enumerate(employee_records):\n",
    "        if employee[0] == employee_id:\n",
    "            updated_employee = (\n",
    "                employee_id,\n",
    "                new_name if new_name else employee[1],\n",
    "                new_depatment if new_department else employee[2]\n",
    "            )\n",
    "            employee_records[i] = updated_employee\n",
    "            return\n",
    "    print(\"Employee nor found.\")\n",
    "\n",
    "# Function to delete an employee record\n",
    "def delete_employee(employee_id):\n",
    "    global employee_records\n",
    "    employee_records = [employee for employee in employee_records if employee[0] != employee_id]\n",
    "\n",
    "# Example usage\n",
    "add_employee(1, \"Hassan\", \"Engineering\")\n",
    "add_employee(2, \"Moiz\", \"Marketing\")\n",
    "\n",
    "view_employee()\n",
    "\n",
    "employee = find_employee(1)\n",
    "print(f\"Found Employee: {employee}\")\n",
    "\n",
    "update_employee(1, new_name=\"Hassan Iqbal\")\n",
    "view_employee()\n",
    "\n",
    "delete_employee(2)\n",
    "view_employee()"
   ]
  },
  {
   "cell_type": "markdown",
   "id": "b5d14488-18c9-41ef-8936-711d1ae74e9b",
   "metadata": {},
   "source": [
    "# Question 2."
   ]
  },
  {
   "cell_type": "code",
   "execution_count": 11,
   "id": "767e8bfd-f154-4ed5-8b98-a3ad07e46fae",
   "metadata": {},
   "outputs": [
    {
     "name": "stdout",
     "output_type": "stream",
     "text": [
      "Found Item:(1, 'Widget A', 50)\n",
      "ID: 1, Description: Widget A, Quantity: 45\n",
      "ID: 2, Description: Gadget B, Quantity: 20\n"
     ]
    },
    {
     "data": {
      "text/plain": [
       "<function __main__.view_inventory()>"
      ]
     },
     "execution_count": 11,
     "metadata": {},
     "output_type": "execute_result"
    }
   ],
   "source": [
    "# Initialize the list of inventory items\n",
    "inventory = []\n",
    "\n",
    "def add_item(item_id, description, quantity):\n",
    "    inventory.append((item_id, description, quantity))\n",
    "\n",
    "def view_inventory():\n",
    "    for item in inventory:\n",
    "        print(f\"ID: {item[0]}, Description: {item[1]}, Quantity: {item[2]}\")\n",
    "\n",
    "def find_item(item_id):\n",
    "    for item in inventory:\n",
    "        if item[0] == item_id:\n",
    "            return item\n",
    "    return None\n",
    "\n",
    "def update_item(item_id, new_description=None, new_quantity=None):\n",
    "    for i, item in enumerate(inventory):\n",
    "        if item[0] == item_id:\n",
    "            updated_item = (\n",
    "                item_id,\n",
    "                new_description if new_description is not None else item[1],\n",
    "                new_quantity if new_quantity is not None else item[2]\n",
    "            )\n",
    "            inventory[i] = updated_item\n",
    "            return \n",
    "    print(\"Item not found.\")\n",
    "\n",
    "def delete_item(item_id):\n",
    "    global inventory\n",
    "    inventory = [item for item in inventory if item[0] != item_id]\n",
    "\n",
    "# Add some inventory items\n",
    "add_item(1, \"Widget A\", 50)\n",
    "add_item(2, \"Gadget B\", 20)\n",
    "\n",
    "# View all inventory items\n",
    "view_inventory\n",
    "\n",
    "# Find a specific item\n",
    "item = find_item(1)\n",
    "print(f\"Found Item:{item}\")\n",
    "\n",
    "# Update an item's information\n",
    "update_item(1, new_quantity=45)\n",
    "view_inventory()\n",
    "\n",
    "# Delete an item\n",
    "delete_item(2)\n",
    "view_inventory"
   ]
  },
  {
   "cell_type": "markdown",
   "id": "37eccb7e-9c87-4cc0-96fc-9476076ec260",
   "metadata": {},
   "source": [
    "# Question 3."
   ]
  },
  {
   "cell_type": "code",
   "execution_count": 7,
   "id": "0e81b419-bdc6-4b8c-acb0-4a80a30cb27e",
   "metadata": {},
   "outputs": [
    {
     "name": "stdout",
     "output_type": "stream",
     "text": [
      "Date: 2024-08-15, Time: 10:00 AM\n",
      "Date: 2024-08-16, Time: 02:00 PM\n",
      "Found Event: None\n",
      "Date: 2024-08-15, Time: 11:00 AM\n",
      "Date: 2024-08-16, Time: 02:00 PM\n",
      "Date: 2024-08-15, Time: 11:00 AM\n"
     ]
    }
   ],
   "source": [
    "# Initialize the list of scheduled events\n",
    "scheduled_events = []\n",
    "\n",
    "def add_event(event_date, event_time):\n",
    "    scheduled_events.append((event_date, event_time))\n",
    "\n",
    "def view_events():\n",
    "    for event in scheduled_events:\n",
    "        print(f\"Date: {event[0]}, Time: {event[1]}\")\n",
    "\n",
    "def find_event(event_date, event_time):\n",
    "    for event in scheduled_events:\n",
    "        if event == (event_date, event_time):\n",
    "            return None\n",
    "\n",
    "def update_event(old_date, old_time, new_date=None, new_time=None):\n",
    "    for i, event in enumerate(scheduled_events):\n",
    "        if event == (old_date, old_time):\n",
    "            updated_event = (\n",
    "                new_date if new_date else old_date,\n",
    "                new_time if new_time else old_time\n",
    "            )\n",
    "            scheduled_events[i] = updated_event\n",
    "            return\n",
    "        print(\"Event not Found.\")\n",
    "\n",
    "def delete_event(event_date, event_time):\n",
    "    global scheduled_events\n",
    "    scheduled_events = [event for event in scheduled_events if event != (event_date, event_time)]\n",
    "\n",
    "# Add some events\n",
    "add_event(\"2024-08-15\", \"10:00 AM\")\n",
    "add_event(\"2024-08-16\", \"02:00 PM\")\n",
    "\n",
    "# View all events\n",
    "view_events()\n",
    "\n",
    "# Find a specific event\n",
    "event = find_event(\"2024-08-15\", \"10:00 AM\")\n",
    "print(f\"Found Event: {event}\")\n",
    "\n",
    "# Update an event's information\n",
    "update_event(\"2024-08-15\", \"10:00 AM\", new_time=\"11:00 AM\")\n",
    "view_events()\n",
    "\n",
    "# Delete an event\n",
    "delete_event(\"2024-08-16\", \"02:00 PM\")\n",
    "view_events()"
   ]
  },
  {
   "cell_type": "markdown",
   "id": "61c49a7b-f3b2-4843-94c0-79de83bf7e84",
   "metadata": {},
   "source": [
    "# Question 4."
   ]
  },
  {
   "cell_type": "code",
   "execution_count": 27,
   "id": "c9858479-b693-47a9-a7eb-6c94965e62ca",
   "metadata": {},
   "outputs": [
    {
     "data": {
      "text/plain": [
       "{'Engineering': {'Employee_1': {'Name': 'Junaid',\n",
       "   'Position': 'Software Engineer',\n",
       "   'Email': 'junaidali@company.com'},\n",
       "  'Employee_2': {'Name': 'Wasim',\n",
       "   'Position': 'DevOps Engineer',\n",
       "   'Email': 'Wasimali@company.com'}},\n",
       " 'Marketing': {'Employee_1': {'Name': 'Usman',\n",
       "   'Position': 'Marketing Manager',\n",
       "   'Email': 'Usmanali@company.com'},\n",
       "  'Employee_2': {'Name': 'Saad',\n",
       "   'Position': 'Content Writer',\n",
       "   'Email': 'Saadali@company.com'}},\n",
       " 'Human Resources': {'Employee_1': {'Name': 'Ahmed',\n",
       "   'Position': 'HR Manager',\n",
       "   'Email': 'Ahmedali@company.com'}}}"
      ]
     },
     "execution_count": 27,
     "metadata": {},
     "output_type": "execute_result"
    }
   ],
   "source": [
    "# Company employee details organized by department\n",
    "company_employees = {\n",
    "    \"Engineering\": {\n",
    "        \"Employee_1\": \n",
    "                    {\n",
    "                   \"Name\": \"Junaid\",\n",
    "                   \"Position\": \"Software Engineer\",\n",
    "                   \"Email\": \"junaidali@company.com\"\n",
    "                    },\n",
    "        \"Employee_2\": \n",
    "        {\"Name\": \"Wasim\",\n",
    "        \"Position\": \"DevOps Engineer\",\n",
    "        \"Email\": \"Wasimali@company.com\"\n",
    "        }\n",
    "                   },\n",
    "    \"Marketing\": {\n",
    "        \"Employee_1\":\n",
    "        {\"Name\": \"Usman\",\n",
    "        \"Position\": \"Marketing Manager\",\n",
    "        \"Email\": \"Usmanali@company.com\"},\n",
    "        \n",
    "        \"Employee_2\":\n",
    "        {\"Name\": \"Saad\",\n",
    "        \"Position\": \"Content Writer\",\n",
    "        \"Email\": \"Saadali@company.com\"}\n",
    "    },\n",
    "\n",
    "    \"Human Resources\":{\n",
    "        \"Employee_1\":{\n",
    "            \"Name\": \"Ahmed\",\n",
    "            \"Position\": \"HR Manager\",\n",
    "            \"Email\": \"Ahmedali@company.com\"\n",
    "        }\n",
    "    }\n",
    "}\n",
    "\n",
    "company_employees"
   ]
  },
  {
   "cell_type": "code",
   "execution_count": 29,
   "id": "7961d025-51e4-4fa2-8fbf-7256108f1419",
   "metadata": {},
   "outputs": [
    {
     "data": {
      "text/plain": [
       "{'Employee_1': {'Name': 'Junaid',\n",
       "  'Position': 'Software Engineer',\n",
       "  'Email': 'junaidali@company.com'},\n",
       " 'Employee_2': {'Name': 'Wasim',\n",
       "  'Position': 'DevOps Engineer',\n",
       "  'Email': 'Wasimali@company.com'}}"
      ]
     },
     "execution_count": 29,
     "metadata": {},
     "output_type": "execute_result"
    }
   ],
   "source": [
    "company_employees[\"Engineering\"]"
   ]
  },
  {
   "cell_type": "code",
   "execution_count": 31,
   "id": "63475f79-fb04-4f0d-b8a2-5f0a133e75d5",
   "metadata": {},
   "outputs": [
    {
     "data": {
      "text/plain": [
       "{'Name': 'Junaid',\n",
       " 'Position': 'Software Engineer',\n",
       " 'Email': 'junaidali@company.com'}"
      ]
     },
     "execution_count": 31,
     "metadata": {},
     "output_type": "execute_result"
    }
   ],
   "source": [
    "company_employees[\"Engineering\"][\"Employee_1\"]"
   ]
  },
  {
   "cell_type": "code",
   "execution_count": 45,
   "id": "5793ef30-8be8-464c-9d29-c28ac17344fc",
   "metadata": {},
   "outputs": [
    {
     "data": {
      "text/plain": [
       "'DevOps Engineer'"
      ]
     },
     "execution_count": 45,
     "metadata": {},
     "output_type": "execute_result"
    }
   ],
   "source": [
    "company_employees[\"Engineering\"][\"Employee_2\"][\"Position\"]"
   ]
  },
  {
   "cell_type": "code",
   "execution_count": 35,
   "id": "d9650144-d69a-4d18-b15d-dfb201c6dc2b",
   "metadata": {},
   "outputs": [
    {
     "data": {
      "text/plain": [
       "{'Employee_1': {'Name': 'Usman',\n",
       "  'Position': 'Marketing Manager',\n",
       "  'Email': 'Usmanali@company.com'},\n",
       " 'Employee_2': {'Name': 'Saad',\n",
       "  'Position': 'Content Writer',\n",
       "  'Email': 'Saadali@company.com'}}"
      ]
     },
     "execution_count": 35,
     "metadata": {},
     "output_type": "execute_result"
    }
   ],
   "source": [
    "company_employees[\"Marketing\"]"
   ]
  },
  {
   "cell_type": "code",
   "execution_count": 37,
   "id": "d1229c25-b952-4b33-b227-6578ce019aff",
   "metadata": {},
   "outputs": [
    {
     "data": {
      "text/plain": [
       "{'Name': 'Usman',\n",
       " 'Position': 'Marketing Manager',\n",
       " 'Email': 'Usmanali@company.com'}"
      ]
     },
     "execution_count": 37,
     "metadata": {},
     "output_type": "execute_result"
    }
   ],
   "source": [
    "company_employees[\"Marketing\"][\"Employee_1\"]"
   ]
  },
  {
   "cell_type": "code",
   "execution_count": 47,
   "id": "6f4c3f67-80cb-4dca-9267-f90fce68fb54",
   "metadata": {},
   "outputs": [
    {
     "data": {
      "text/plain": [
       "'Saad'"
      ]
     },
     "execution_count": 47,
     "metadata": {},
     "output_type": "execute_result"
    }
   ],
   "source": [
    "company_employees[\"Marketing\"][\"Employee_2\"][\"Name\"]"
   ]
  },
  {
   "cell_type": "code",
   "execution_count": 43,
   "id": "58afbf1e-970d-4269-bf75-e7447a0c2446",
   "metadata": {},
   "outputs": [
    {
     "data": {
      "text/plain": [
       "'Ahmedali@company.com'"
      ]
     },
     "execution_count": 43,
     "metadata": {},
     "output_type": "execute_result"
    }
   ],
   "source": [
    "company_employees[\"Human Resources\"][\"Employee_1\"][\"Email\"]"
   ]
  },
  {
   "cell_type": "markdown",
   "id": "37c8a818-4e83-44ec-bd5d-44ac50e9ad63",
   "metadata": {},
   "source": [
    "# Question 5."
   ]
  },
  {
   "cell_type": "code",
   "execution_count": 93,
   "id": "5cb4c10f-2ed2-4a98-8042-a64f0834cd74",
   "metadata": {},
   "outputs": [
    {
     "data": {
      "text/plain": [
       "{'Name': 'Shahid', 'Math': '90', 'Science': '85', 'English': '88'}"
      ]
     },
     "execution_count": 93,
     "metadata": {},
     "output_type": "execute_result"
    }
   ],
   "source": [
    "# List of dictionaries representing students and their scores\n",
    "students_scores = [\n",
    "    {\"Name\": \"Shahid\", \"Math\": \"90\", \"Science\": \"85\", \"English\": \"88\"},\n",
    "    {\"Name\": \"Atif\", \"Math\": \"78\", \"Science\": \"92\", \"English\": \"81\"},\n",
    "    {\"Name\": \"Naveed\", \"Math\": \"85\", \"Science\": \"80\", \"English\": \"89\"},\n",
    "    {\"Name\": \"Amjad\", \"Math\": \"76\", \"Science\": \"83\", \"English\": \"91\"},\n",
    "]\n",
    "\n",
    "students_scores[0]"
   ]
  },
  {
   "cell_type": "code",
   "execution_count": 104,
   "id": "7ab3710e-1f55-46b5-a3e3-f803896ea71a",
   "metadata": {},
   "outputs": [
    {
     "data": {
      "text/plain": [
       "{'Name': 'Naveed', 'Math': '85', 'Science': '80', 'English': '89'}"
      ]
     },
     "execution_count": 104,
     "metadata": {},
     "output_type": "execute_result"
    }
   ],
   "source": [
    "students_scores[2]"
   ]
  },
  {
   "cell_type": "markdown",
   "id": "12f7274b-6fdf-470b-b11d-3ac211c1c3e1",
   "metadata": {},
   "source": [
    "# Question 6."
   ]
  },
  {
   "cell_type": "code",
   "execution_count": 113,
   "id": "ad5db05b-414a-4a6a-b695-5cd35eb69f70",
   "metadata": {},
   "outputs": [
    {
     "name": "stdout",
     "output_type": "stream",
     "text": [
      "Project Alpa: ['Task 1: Design', 'Task 2: Development', 'Task 3: Testing']\n"
     ]
    }
   ],
   "source": [
    "# Step 1: Create a dictionary with projects and their tasks\n",
    "projects_tasks = {\n",
    "    \"Project Alpa\": [\"Task 1: Design\", \"Task 2: Development\", \"Task 3: Testing\"],\n",
    "    \"Project Beta\": [\"Task 1: Research\", \"Task 2: Analytics\", \"Task 3: Implementation\"],\n",
    "    \"Project Charli\": [\"Task 1: Planning\", \"Task 2: Execution\", \"Task 3: Review\"]\n",
    "}\n",
    "\n",
    "Tasks = projects_tasks[\"Project Alpa\"]\n",
    "\n",
    "print(\"Project Alpa:\", Tasks)"
   ]
  },
  {
   "cell_type": "code",
   "execution_count": 115,
   "id": "7ee0af18-59ac-4b93-950e-3c292cb25e96",
   "metadata": {},
   "outputs": [
    {
     "data": {
      "text/plain": [
       "['Task 1: Planning', 'Task 2: Execution', 'Task 3: Review']"
      ]
     },
     "execution_count": 115,
     "metadata": {},
     "output_type": "execute_result"
    }
   ],
   "source": [
    "projects_tasks[\"Project Charli\"]"
   ]
  },
  {
   "cell_type": "markdown",
   "id": "35c8b4ce-5b58-4b96-87f9-404fbb231f2a",
   "metadata": {},
   "source": [
    "# Question 7."
   ]
  },
  {
   "cell_type": "code",
   "execution_count": 117,
   "id": "dd355a3b-2d81-43f9-beee-ae60262df89e",
   "metadata": {},
   "outputs": [
    {
     "name": "stdout",
     "output_type": "stream",
     "text": [
      "Details of Module 2 in Python Programming: {'Title': 'Advanced Python', 'Duration': '3 hours', 'Content': 'In-depth Python features'}\n"
     ]
    }
   ],
   "source": [
    "# Step 1: Create a dictionary of dictionaries for courses and modules\n",
    "training_program = {\n",
    "    \"Python Programming\": {\n",
    "        \"Module 1\": {\"Title\": \"Introduction to Python\", \"Duration\": \"2 hours\", \"Content\": \"Basics of Python programming\"},\n",
    "        \"Module 2\": {\"Title\": \"Advanced Python\", \"Duration\": \"3 hours\", \"Content\": \"In-depth Python features\"}\n",
    "    },\n",
    "    \"Data Science\": {\n",
    "        \"Module 1\": {\"Title\": \"Data Analysis\", \"Duration\": \"4 hours\", \"Content\": \"Data manipulation and analysis techniques\"},\n",
    "        \"Module 2\": {\"Title\": \"Machine Learning\", \"Duration\": \"5 hours\", \"Content\": \"Introduction to machine learning algorithms\"}\n",
    "    },\n",
    "    \"Web Development\": {\n",
    "        \"Module 1\": {\"Title\": \"HTML and CSS\", \"Duration\": \"3 hours\", \"Content\": \"Basics of HTML and CSS for web development\"},\n",
    "        \"Module 2\": {\"Title\": \"JavaScript\", \"Duration\": \"4 hours\", \"Content\": \"Introduction to JavaScript programming\"}\n",
    "    }\n",
    "}\n",
    "\n",
    "# Step 2: Function to retrieve details of a specific module\n",
    "def get_module_details(course_name, module_name):\n",
    "    if course_name in training_program:\n",
    "        course = training_program[course_name]\n",
    "        if module_name in course:\n",
    "            return course[module_name]\n",
    "        else:\n",
    "            return \"Module not found.\"\n",
    "    else:\n",
    "        return \"Course not found.\"\n",
    "\n",
    "# Example: Retrieve details of Module 2 in Python Programming\n",
    "module_details = get_module_details(\"Python Programming\", \"Module 2\")\n",
    "print(f\"Details of Module 2 in Python Programming: {module_details}\")\n"
   ]
  },
  {
   "cell_type": "markdown",
   "id": "4f3680ab-b766-47f7-9ea7-4af7ea895df8",
   "metadata": {},
   "source": [
    "# Question 8."
   ]
  },
  {
   "cell_type": "code",
   "execution_count": 123,
   "id": "08d3980f-d37a-4130-b1d8-fd843c8f9808",
   "metadata": {},
   "outputs": [
    {
     "name": "stdout",
     "output_type": "stream",
     "text": [
      "Products below $500: ['Headphones', 'Monitor', 'Mouse']\n"
     ]
    }
   ],
   "source": [
    "# List of tuples containing product names and their prices\n",
    "products = [\n",
    "    (\"Laptop\", 1200),\n",
    "    (\"Smartphone\", 700),\n",
    "    (\"Headphones\", 150),\n",
    "    (\"Monitor\", 300),\n",
    "    (\"Mouse\", 25)\n",
    "]\n",
    "\n",
    "# Price threshold\n",
    "price_threshold = 500\n",
    "\n",
    "# List to store products below the threshold\n",
    "affordable_products = []\n",
    "\n",
    "# Check each product\n",
    "for product_name, price in products:\n",
    "    if price < price_threshold:\n",
    "        affordable_products.append(product_name)\n",
    "\n",
    "# Print the results\n",
    "print(f\"Products below ${price_threshold}: {affordable_products}\")"
   ]
  }
 ],
 "metadata": {
  "kernelspec": {
   "display_name": "Python 3 (ipykernel)",
   "language": "python",
   "name": "python3"
  },
  "language_info": {
   "codemirror_mode": {
    "name": "ipython",
    "version": 3
   },
   "file_extension": ".py",
   "mimetype": "text/x-python",
   "name": "python",
   "nbconvert_exporter": "python",
   "pygments_lexer": "ipython3",
   "version": "3.12.4"
  }
 },
 "nbformat": 4,
 "nbformat_minor": 5
}
